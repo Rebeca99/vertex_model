{
 "cells": [
  {
   "cell_type": "code",
   "execution_count": 1,
   "metadata": {},
   "outputs": [],
   "source": [
    "\n",
    "import itertools\n",
    "get_ipython().magic(u'matplotlib inline')\n",
    "import numpy as np\n",
    "import matplotlib\n",
    "%matplotlib qt5\n",
    "import matplotlib.pyplot as plt\n",
    "from matplotlib import animation, rc\n",
    "from IPython.display import HTML\n",
    "import vertex_model as model\n",
    "from vertex_model.run_select import run_simulation_INM, definecolors\n",
    "import vertex_model.initialisation as init"
   ]
  },
  {
   "cell_type": "code",
   "execution_count": 2,
   "metadata": {},
   "outputs": [
    {
     "name": "stdout",
     "output_type": "stream",
     "text": [
      "test\n"
     ]
    }
   ],
   "source": [
    "import vertex_model\n",
    "print(\"test\")"
   ]
  },
  {
   "cell_type": "code",
   "execution_count": 3,
   "metadata": {},
   "outputs": [
    {
     "name": "stdout",
     "output_type": "stream",
     "text": [
      "0.001\n",
      "[2937] [10008 10009 10010 10011 10012 10013]\n",
      "[3322] [ 6360  6361  6362 11163 11164 11165]\n",
      "[3474] [ 2670  2671  2672 11613 11614 11615]\n",
      "[3538] [11796 11797 11798 11799 11800 11801]\n",
      "[6687] [ 5574  5575  5576 21234 21235 21236]\n",
      "[6390] [ 3273  3274  3275 20343 20344 20345]\n",
      "[7650] [15252 15253 15254 24117 24118 24119]\n",
      "[8348] [12585 12586 12587 26205 26206 26207]\n",
      "[8349] [15249 15250 15251 26199 26200 26201]\n",
      "[7566] [ 7338  7339  7340 10206 10207 10208]\n",
      "[13538] [ 7188  7189  7190 41757 41758 41759]\n",
      "[13539] [21912 21913 21914 24897 24898 24899]\n",
      "[11405] [15846 15847 15848 15849 15850 15851]\n",
      "[14039] [ 1653  1654  1655 12792 12793 12794]\n",
      "[16474] [27372 27373 27374 31614 31615 31616]\n",
      "[15458] [ 5544  5545  5546 47487 47488 47489]\n",
      "[16475] [15360 15361 15362 31605 31606 31607]\n",
      "[15642] [ 4194  4195  4196 48027 48028 48029]\n",
      "[16277] [26148 26149 26150 49923 49924 49925]\n",
      "[16683] [ 6252  6253  6254 51135 51136 51137]\n",
      "[15447] [ 6639  6640  6641 15099 15100 15101]\n",
      "[19364] [ 7584  7585  7586 26499 26500 26501]\n",
      "[15643] [ 4191  4192  4193 48003 48004 48005]\n",
      "[19768] [15639 15640 15641 22497 22498 22499]\n",
      "[19769] [ 7728  7729  7730 60363 60364 60365]\n",
      "[18781] [31053 31054 31055 31056 31057 31058]\n",
      "[21896] [34137 34138 34139 66732 66733 66734]\n",
      "[21897] [40233 40234 40235 66729 66730 66731]\n",
      "[22213] [ 1521  1522  1523 20712 20713 20714]\n",
      "[17775] [  561   562   563 29148 29149 29150]\n",
      "[22224] [67686 67687 67688 67692 67693 67694]\n"
     ]
    }
   ],
   "source": [
    "#### Parameter used in the simulation are picked up form Gobal_Constant.py file\n",
    "\n",
    "### Choose simulation to run\n",
    "# def run_simulation_INM(x, timend,rand, type):\n",
    "#     sim_type 0 simulation_with_division_clone (no differentiation rate)\n",
    "#     sim_type 1 simulation_with_division_clone_differentiation (all differentiation rate)\n",
    "#     sim_type 2 simulation_with_division_clone_differenciation_3stripes (2 population with and without diffentiation rate)\n",
    "#     sim_type 3 simulation_with_division_clone_whole_tissue_differenciation (differentiation rate everywhere)\n",
    "\n",
    "#use type 2 and parameter i=4 for floor plate\n",
    "import numpy as np\n",
    "type_=2\n",
    "L_point = [-.4, -0.2,-0.3, -0.05, 0.075, 0.15]\n",
    "G_point = [0.14, 0.12, 0.1, 0.065, 0.04, 0.02]\n",
    "i=4\n",
    "G=G_point[i]\n",
    "L=L_point[i]\n",
    "K=1.0\n",
    "#run simulation with the choosen parameters ; line 521 in run_select.py\n",
    "rand =  np.random.RandomState() #random number to choose Lambda\n",
    "params = [K,G,L]  # K=x[0],G=x[1],L=x[2]\n",
    "history= run_simulation_INM(params,300,rand,type_) #return hist; simulation time = 300?\n"
   ]
  },
  {
   "cell_type": "code",
   "execution_count": 9,
   "metadata": {},
   "outputs": [],
   "source": [
    "\n",
    "def definecolors(cells):\n",
    "    peach = '#eed5b7'\n",
    "    light_blue ='#87cefa'\n",
    "    pink = '#ffc0cb'\n",
    "    light_green = '#98fb98'\n",
    "    palette = np.array([peach,'g',peach, 'r',peach,'g',peach])\n",
    "    colors = cells.properties['parent_group']\n",
    "\n",
    "    return palette[colors]\n",
    "\n",
    "\n",
    "for cells in history:\n",
    "    cells.properties['color'] = definecolors(cells)\n",
    "\n"
   ]
  },
  {
   "cell_type": "code",
   "execution_count": 10,
   "metadata": {},
   "outputs": [],
   "source": [
    "\n",
    "fig=plt.figure()\n",
    "ax = fig.gca()\n",
    "# initialization function: plot the background of each frame\n",
    "def init_fig():\n",
    "    ax = plt.figure()\n",
    "    return (ax,)\n",
    "# animation function. This is called sequentially\n",
    "def animate_fig(i):\n",
    "    cells_array=history\n",
    "    v_max = np.max((np.max(cells_array[0].mesh.vertices), np.max(cells_array[-1].mesh.vertices)))\n",
    "    size = 2.0*v_max\n",
    "    cells= history[i]\n",
    "    return model.draw(cells,ax,size)\n",
    "# call the animator. blit=True means only re-draw the parts that have changed.\n",
    "anim = animation.FuncAnimation(fig,animate_fig, init_func=init_fig,\n",
    "                               frames=len(history))\n",
    "\n",
    "\n",
    "\n",
    "\n"
   ]
  },
  {
   "cell_type": "code",
   "execution_count": 6,
   "metadata": {},
   "outputs": [
    {
     "ename": "RuntimeError",
     "evalue": "Requested MovieWriter (ffmpeg) not available",
     "output_type": "error",
     "traceback": [
      "\u001b[0;31m---------------------------------------------------------------------------\u001b[0m",
      "\u001b[0;31mRuntimeError\u001b[0m                              Traceback (most recent call last)",
      "\u001b[0;32m<ipython-input-6-f885f4acf935>\u001b[0m in \u001b[0;36m<module>\u001b[0;34m\u001b[0m\n\u001b[0;32m----> 1\u001b[0;31m \u001b[0mHTML\u001b[0m\u001b[0;34m(\u001b[0m\u001b[0manim\u001b[0m\u001b[0;34m.\u001b[0m\u001b[0mto_html5_video\u001b[0m\u001b[0;34m(\u001b[0m\u001b[0;34m)\u001b[0m\u001b[0;34m)\u001b[0m\u001b[0;34m\u001b[0m\u001b[0;34m\u001b[0m\u001b[0m\n\u001b[0m",
      "\u001b[0;32m~/opt/anaconda3/lib/python3.8/site-packages/matplotlib/animation.py\u001b[0m in \u001b[0;36mto_html5_video\u001b[0;34m(self, embed_limit)\u001b[0m\n\u001b[1;32m   1314\u001b[0m                 \u001b[0;31m# We create a writer manually so that we can get the\u001b[0m\u001b[0;34m\u001b[0m\u001b[0;34m\u001b[0m\u001b[0;34m\u001b[0m\u001b[0m\n\u001b[1;32m   1315\u001b[0m                 \u001b[0;31m# appropriate size for the tag\u001b[0m\u001b[0;34m\u001b[0m\u001b[0;34m\u001b[0m\u001b[0;34m\u001b[0m\u001b[0m\n\u001b[0;32m-> 1316\u001b[0;31m                 \u001b[0mWriter\u001b[0m \u001b[0;34m=\u001b[0m \u001b[0mwriters\u001b[0m\u001b[0;34m[\u001b[0m\u001b[0mmpl\u001b[0m\u001b[0;34m.\u001b[0m\u001b[0mrcParams\u001b[0m\u001b[0;34m[\u001b[0m\u001b[0;34m'animation.writer'\u001b[0m\u001b[0;34m]\u001b[0m\u001b[0;34m]\u001b[0m\u001b[0;34m\u001b[0m\u001b[0;34m\u001b[0m\u001b[0m\n\u001b[0m\u001b[1;32m   1317\u001b[0m                 writer = Writer(codec='h264',\n\u001b[1;32m   1318\u001b[0m                                 \u001b[0mbitrate\u001b[0m\u001b[0;34m=\u001b[0m\u001b[0mmpl\u001b[0m\u001b[0;34m.\u001b[0m\u001b[0mrcParams\u001b[0m\u001b[0;34m[\u001b[0m\u001b[0;34m'animation.bitrate'\u001b[0m\u001b[0;34m]\u001b[0m\u001b[0;34m,\u001b[0m\u001b[0;34m\u001b[0m\u001b[0;34m\u001b[0m\u001b[0m\n",
      "\u001b[0;32m~/opt/anaconda3/lib/python3.8/site-packages/matplotlib/animation.py\u001b[0m in \u001b[0;36m__getitem__\u001b[0;34m(self, name)\u001b[0m\n\u001b[1;32m    164\u001b[0m         \u001b[0;32mif\u001b[0m \u001b[0mself\u001b[0m\u001b[0;34m.\u001b[0m\u001b[0mis_available\u001b[0m\u001b[0;34m(\u001b[0m\u001b[0mname\u001b[0m\u001b[0;34m)\u001b[0m\u001b[0;34m:\u001b[0m\u001b[0;34m\u001b[0m\u001b[0;34m\u001b[0m\u001b[0m\n\u001b[1;32m    165\u001b[0m             \u001b[0;32mreturn\u001b[0m \u001b[0mself\u001b[0m\u001b[0;34m.\u001b[0m\u001b[0m_registered\u001b[0m\u001b[0;34m[\u001b[0m\u001b[0mname\u001b[0m\u001b[0;34m]\u001b[0m\u001b[0;34m\u001b[0m\u001b[0;34m\u001b[0m\u001b[0m\n\u001b[0;32m--> 166\u001b[0;31m         \u001b[0;32mraise\u001b[0m \u001b[0mRuntimeError\u001b[0m\u001b[0;34m(\u001b[0m\u001b[0;34mf\"Requested MovieWriter ({name}) not available\"\u001b[0m\u001b[0;34m)\u001b[0m\u001b[0;34m\u001b[0m\u001b[0;34m\u001b[0m\u001b[0m\n\u001b[0m\u001b[1;32m    167\u001b[0m \u001b[0;34m\u001b[0m\u001b[0m\n\u001b[1;32m    168\u001b[0m \u001b[0;34m\u001b[0m\u001b[0m\n",
      "\u001b[0;31mRuntimeError\u001b[0m: Requested MovieWriter (ffmpeg) not available"
     ]
    }
   ],
   "source": [
    "HTML(anim.to_html5_video())"
   ]
  },
  {
   "cell_type": "code",
   "execution_count": 190,
   "metadata": {},
   "outputs": [
    {
     "name": "stdout",
     "output_type": "stream",
     "text": [
      "[1.1860919  1.14153715 2.16681666 ... 0.00473937 0.00506991 0.00423976]\n",
      "0.003860953347055751\n",
      "3.1399356201466135\n",
      "0.8926051064870122\n",
      "0.6809692572214547\n",
      "2290\n"
     ]
    }
   ],
   "source": [
    "# Determine if cell cycle length has an Erlang distribution - if our model matches experimental data.\n",
    "\n",
    "print(cells.properties['age'])\n",
    "print(min(cells.properties['age']))\n",
    "print(max(cells.properties['age']))\n",
    "h = plt.hist(cells.properties['age'], bins = 30)\n",
    "plt.show()\n",
    "\n",
    "\n",
    "\n",
    "#find mean of distribution\n",
    "mu = sum(cells.properties['age'])/len(cells.properties['age'])\n",
    "print(sum(cells.properties['age'])/len(cells.properties['age']))\n",
    "# find sd of distribution\n",
    "sigma = np.std(cells.properties['age'])\n",
    "print(np.std(cells.properties['age']))\n",
    "print(len(cells.properties['age']))\n"
   ]
  },
  {
   "cell_type": "code",
   "execution_count": 203,
   "metadata": {},
   "outputs": [
    {
     "name": "stdout",
     "output_type": "stream",
     "text": [
      "[1.1860919  1.14153715 2.16681666 2.04981878 1.73184128 1.71648175\n",
      " 1.50167215 2.6257762  1.78875474 2.49558978 2.1001639  1.39980438\n",
      " 1.66180575 1.89060653 2.39091449 2.10535272 1.79147374 2.43390018\n",
      " 1.73070771 2.03201491 2.26548838 2.61873933 2.54661718 1.69873762\n",
      " 1.41202377 2.26943045 2.73825392 1.2024061  2.35055735 1.91767891\n",
      " 2.85451523 1.94810853 1.84681487 2.28062055 1.65560539 1.88714669\n",
      " 1.58812765 2.75033481 1.46055128 2.46241812 2.35820753 1.89079988\n",
      " 1.38033135 1.73025007 2.1683106  1.94144102 2.14868164 1.7546208\n",
      " 2.83022029 2.19019055 2.64832962 2.60988708 1.96742181 2.50929591\n",
      " 2.44276459 1.44777203 1.58449774 1.42211135 2.64793283 2.03108876\n",
      " 2.14039025 1.99870178 1.77205857 2.46957391 1.6056836  1.65161524\n",
      " 2.34945239 1.78149224 1.55097222 1.89772837 1.38193979 1.92752593\n",
      " 1.9496499  2.20218036 1.64671502 2.0007799  1.52892913 2.19744656\n",
      " 2.61206394 2.34455743 1.47286999 1.83169469 1.46252587 2.02457902\n",
      " 1.8620471  1.8253994  1.582726   1.75436161 2.30615504 2.00669061\n",
      " 1.95551723 1.4202963  1.73214109 2.52638438 1.96773163 2.30399182\n",
      " 2.27887358 2.10079124 1.15792855 2.20304317 1.48273198 1.44223388\n",
      " 2.56945754 1.52573175 1.97033494 2.58819743 2.46802509 2.87813033\n",
      " 2.27688659 1.75692723 2.44524467 2.03239835 2.76539667 1.85986457\n",
      " 1.84935003 2.48020792 2.21324274 1.66316883 2.48841102 1.95944786\n",
      " 1.28908892 1.50698772 1.47950752 2.7961051  2.47636943 1.95498582\n",
      " 2.28809671 1.84988158 2.23950794 2.06337441 1.57092449 3.13993562\n",
      " 1.25003528 1.59857181 1.71027938 1.52813841 1.93607395 1.9627457\n",
      " 1.75212635 2.70208141 2.15117672 2.31784446 2.38773604 2.04701505\n",
      " 2.22614629 2.31742681 2.87828218 1.89468008 1.16303267 1.77636721\n",
      " 1.81555714 2.20229112 1.68402748 2.73393018 1.90909466 2.24802724\n",
      " 2.12085259 1.90006919 2.1103341  1.54232477 1.70735272 2.27475905\n",
      " 1.43052086 1.13438576 1.94548022 1.87850025 2.39840514 1.6584663\n",
      " 2.02853165 1.37121454 2.01069196 1.90362203 2.4856732  1.90845442\n",
      " 2.60632574 1.58434169 2.18708109 1.81582762 2.2409878  2.20410457\n",
      " 2.57701211 2.09912609 1.3626399  2.01873346 2.13658829 1.69588286\n",
      " 1.92827177 1.56986945 2.40079096 2.53094951 1.52786351 1.73667635\n",
      " 1.41377018 1.73604147 1.9128042  2.25798521 1.43179372 2.816934\n",
      " 1.23494014 1.65277584 2.51143012 1.67848049 2.04757327 2.51707142\n",
      " 2.44285806 2.43778503 1.63190658 1.15384123 1.28156811 1.59673761\n",
      " 1.943903   2.31906668 2.06186536 1.84167138 2.03191474 1.77285651\n",
      " 1.85121974 1.30412195 1.80181497 2.40345528 1.57627711 2.63996699\n",
      " 2.07379917 2.22905073 1.61129584 2.33137491 1.91887529 1.62476858\n",
      " 2.2609948  1.82861366 1.67416319 1.6795694  1.37507265 2.49278783\n",
      " 2.26413599 1.95213694 1.76892932 1.44724093 2.08216618 2.69362321\n",
      " 1.97775958 2.23485813 2.05605517 1.43010576 1.31465011 2.10953258\n",
      " 2.03003777 2.1048712  2.1138801  1.98642388 1.73468465 2.07326402\n",
      " 1.94583318 2.06978691 2.09596708 1.28166667 1.95556484 2.15399468\n",
      " 2.69910054 1.84589021 1.96761425 2.12719999 1.46685626 1.42935403\n",
      " 2.42931481 1.86578215 1.39804228 1.81078058 2.58028305 2.1371919\n",
      " 1.58847452 2.3157295  1.97810574 1.84416887 2.24642593 1.16107008\n",
      " 1.97255963 1.26412457 1.87098558 2.04187154 2.34966816 2.21308496\n",
      " 2.26537876 1.88831557 1.96971706 1.49083686 1.97428327 1.76259275\n",
      " 1.57511615 2.16269352 2.13600817 2.07307108 2.05193429 2.22076104\n",
      " 1.82903336 1.53733329 2.51573092 2.27041129 2.42669729 1.79702617\n",
      " 1.80702633 1.81473518 1.55505629 1.73681302 1.78894981 2.32807191\n",
      " 2.27932594 1.37347297 2.40388893 2.26493945 1.55583796 1.65404898\n",
      " 2.13131701 2.43692315 1.71346482 1.83497374 1.90509019 1.35465267\n",
      " 2.65079309 1.87606407 1.38114378 2.40013052 1.96584846 1.36475883\n",
      " 1.90857261 1.15306087 2.80559327 2.25927992 1.81552566 1.96581043\n",
      " 2.26954834 1.34181298 2.24874535 1.69600101 2.44724501 1.55184548\n",
      " 1.92297046 1.6911278  2.55820172 1.23879968 1.81470213 1.51498996\n",
      " 1.6756158  2.24344343 1.636981   2.31946721 1.98156391 2.32105374\n",
      " 1.64928784 2.60316383 1.36809438 1.61309519 2.00668847 1.54593591\n",
      " 2.4372853  2.27164856 1.46168226 2.11473571 1.99120447 1.65633632\n",
      " 2.40451839 2.40561996 1.71934674 2.34346792 1.81573068 1.60574714\n",
      " 2.20320333 2.24437363 2.01160845 2.26553105 1.90706038 2.52761598\n",
      " 0.93016147 1.803196   1.89594201 2.33924274 2.03257129 1.76625114\n",
      " 2.25424956 2.7689652  1.65634663 1.39642528 1.98180579 2.54732936\n",
      " 1.49403075 2.61095011 1.42539065 2.45429654 1.49340851 1.86324302\n",
      " 2.2867585  1.88230478 2.10870437 1.35782941 1.91206648 2.51374964\n",
      " 2.24712435 2.48650584 1.79356697 1.47914613 1.73105511 1.59860578\n",
      " 1.59086575 2.04881236 1.37538451 1.81242976 1.36754184 1.23302371\n",
      " 1.64487959 1.51442275 1.09169769 2.14597292 1.95627451 1.52024039\n",
      " 1.40617327 1.75754404 1.78834192 1.60822777 1.68294557 1.26239883\n",
      " 1.96020044 1.36470406 2.17031135 1.86741201 1.58002837 1.29337349\n",
      " 1.955406   1.30078544 1.72774581 1.24873299 1.8367559  1.26640066\n",
      " 2.20019571 1.17826552 1.6040806  1.28537016 1.45749361 1.76188824\n",
      " 1.39735499 1.1078894  1.82287559 1.62050377 1.58912414 1.23788237\n",
      " 1.3986484  1.71773441 1.80236385 1.3844363  1.65228656 0.96991435\n",
      " 1.32582386 2.23983889 1.04305609 1.61074629 1.29203517 1.15919079\n",
      " 1.54914037 1.22853044 1.01782859 1.85174935 1.7007828  0.93225312\n",
      " 1.87665319 1.36547542 1.79881452 1.49885169 0.97695938 0.95791659\n",
      " 1.47891118 1.54684848 1.06754586 1.35427479 1.78109928 1.48154687\n",
      " 1.59334904 1.64438949 1.67573965 1.78408837 1.62662183 1.78008379\n",
      " 1.56613633 1.45058783 1.74454496 1.22016079 1.38015025 1.71450396\n",
      " 1.78975896 1.53361345 1.45094243 1.17646099 1.22687719 1.19203994\n",
      " 2.34777764 1.72694682 1.68680342 1.87510411 1.44142194 1.05859432\n",
      " 1.50493591 1.06921335 1.93497548 1.77644766 1.14979663 0.99810168\n",
      " 1.90328121 1.39345314 1.32155159 1.53170175 1.69291344 1.75672662\n",
      " 1.45978407 1.19809784 1.43733194 1.30298952 1.50926773 1.55632312\n",
      " 1.35610828 1.35093249 1.482962   1.44547834 1.63420462 1.37700902\n",
      " 1.72794108 1.88730706 1.45275449 1.19732295 1.15473918 1.75273807\n",
      " 1.43891946 1.41044979 1.9051418  1.32622926 1.63989795 1.29345294\n",
      " 1.71226483 1.56979227 1.29458118 1.37871868 1.48746015 1.56185905\n",
      " 1.72015066 1.39721176 1.12701494 1.59491491 1.32773643 1.78918838\n",
      " 1.54571671 1.55923361 1.75824852 1.29650204 1.12444587 1.63938108\n",
      " 1.41896396 1.12468865 1.1933233  1.3970692  1.32661388 1.53130444\n",
      " 1.55276687 1.73790978 2.08672053 1.53635892 0.92512458 1.14521857\n",
      " 1.58067255 1.62697736 1.789677   1.37587812 1.39003339 1.24769417\n",
      " 1.59850451 1.18494768 1.18053315 1.26812934 1.16146694 1.37128347\n",
      " 1.93987792 0.98933931 1.67013322 1.64984817 1.30749502 1.41473172\n",
      " 1.44635384 1.68008251 1.67507403 1.03354909 1.59503824 1.38519162\n",
      " 1.62273039 1.03458671 1.48165155 1.83032065 1.39228245 1.44869008\n",
      " 1.76824713 1.58752747 1.2571288  1.40508977 1.39888823 1.34607523\n",
      " 1.30359927 1.502199   1.67821655 1.34724476 1.48655908 1.29326725\n",
      " 1.04264632 1.05042666 1.29392628 0.95263259 1.75111197 1.51163044\n",
      " 1.33893688 1.96532681 1.2149457  1.25220936 1.27588907 1.22806968\n",
      " 1.65162757 0.95686464 1.34832144 1.45697748 1.38006519 1.21725685\n",
      " 1.50920798 1.37854552 1.21146265 1.64885998 1.67624561 1.26975152\n",
      " 1.33895962 0.93928113 1.52409211 1.60046147 1.00499127 1.00929712\n",
      " 1.52868807 1.39518587 1.31297673 1.33355074 1.71395356 1.04254141\n",
      " 1.35020322 1.19616177 0.95899741 1.27963139 1.02090287 0.99185789\n",
      " 1.40611803 1.32081946 1.20347984 1.11810126 1.164127   1.17436267\n",
      " 1.39617651 0.95239548 1.06140652 1.22410584 1.12783031 1.17447911\n",
      " 1.30843965 1.38838227 1.13014213 1.01027531 1.17864122 0.91797286\n",
      " 1.60432165 1.08842403 0.9778952  0.93883238 1.58407296 0.90388142\n",
      " 1.56749408 1.40724067 1.2199559  0.90470574 1.36007748 1.56217047\n",
      " 1.03223305 1.28694358 1.34585291 1.793469   1.29900582 1.38688588\n",
      " 1.11069406 1.24763128 1.22320278 1.17205197 1.0225747  1.6751018\n",
      " 1.19661177 1.13511606 1.1019887  1.40088483 1.00974372 1.55531378\n",
      " 1.23415472 1.22016291 1.5960633  1.13789636 1.56216882 1.22685925\n",
      " 1.2926533  1.03897539 1.18367816 1.3760799  1.32453062 1.31293193\n",
      " 1.23193527 1.02655689 1.25868014 1.01948978 1.17932332 1.24435627\n",
      " 1.0166485  1.12050482 1.35865182 1.47095345 1.15019096 1.30194275\n",
      " 1.19318665 1.70101754 1.12434756 1.16144536 1.37691047 0.98470929\n",
      " 1.08409664 1.27132128 0.93987782 1.19263396 1.21982002 1.24265058\n",
      " 1.03782543 1.54549977 1.18371288 1.28184627 1.56565221 1.41175843\n",
      " 1.00392297 1.33461392 1.47467681 1.28817901 1.10090858 1.04606496\n",
      " 1.18211829 1.586033   1.16710554 1.26004347 1.17812255 1.2924456\n",
      " 1.33815624 1.12422508 1.22977921 1.10869474 1.34574822 1.12346628\n",
      " 1.37436683 0.99020364 1.17206077 1.28110731 1.62113993 1.08110723\n",
      " 1.23083834 1.25481872 1.3539839  1.39736346 1.18840727 1.27725926\n",
      " 1.00912096 1.27388851 1.27125251 1.00810059 1.28572167 1.57717028\n",
      " 1.52978721 1.28995802 1.2505387  1.46394334 1.0854736  0.96149988\n",
      " 1.18877854 0.94582302 1.01944969 0.98545656 1.23013408 1.18806152\n",
      " 1.3059518  1.36020526 1.03724257 1.11526838 0.99048185 1.1645997\n",
      " 1.17532249 0.93692764 1.16326594 1.09377019 1.11187516 1.0708349\n",
      " 1.13677877 0.96951207 0.91289917 1.24778409 1.20741262 1.12859191\n",
      " 1.19211667 1.23099541 1.23915858 1.4394739  1.06131466 1.08137445\n",
      " 0.91855719 1.00127962 1.53388937 1.17789723 0.93270232 1.13274631\n",
      " 1.00299986 0.92167498 1.2106213  1.23789056 1.17665218 1.39933916\n",
      " 1.11341429 1.29632787 1.03864046 1.17011022 0.99847583 1.2498586\n",
      " 1.10075178 1.07711087 1.02706495 1.15517094 1.27100986 0.90428115\n",
      " 1.25343505 1.32911957 1.42282041 1.14872872 0.99799331 0.99977644\n",
      " 1.11194166 1.00393357 0.92846366 1.10775539 0.97992403 1.13265052\n",
      " 1.05343769 1.33729094 1.47603725 0.93585522 1.16586984 1.34869159\n",
      " 1.16319627 0.96822923 1.02670024 1.13206704 1.14838447 1.05920801\n",
      " 0.97073265 1.11975561 0.98943654 0.91780637 1.16890762 1.09469601\n",
      " 0.91149094 1.02323664 1.25444034 1.06830607 0.9685538  1.06880242\n",
      " 1.06648679 0.97393984 0.97951401 1.14207976 1.0960185  0.91940946\n",
      " 0.99839281 1.14986697 1.07255103 1.00220374 0.91197208 1.00310017\n",
      " 0.91258214 1.01168928 0.95000432 0.93411367 1.10872442 0.91199046\n",
      " 1.07541065 0.91524212 1.09662369 1.00130604 1.02966338 1.0379946\n",
      " 0.96970324 1.17831638 1.16385011 1.06809679 0.90703774 0.92106144\n",
      " 1.04375155 0.90438278 0.94190914 0.9420395  0.93615391 1.26805752\n",
      " 0.97802556 1.01487766 0.99996733 0.93121446 0.90786988 0.9298889\n",
      " 1.1000198  0.93840834 1.02629978 1.03989848 1.00252848 0.9230886\n",
      " 0.91010948 0.91455221 1.02439499 0.9770818  0.97191525 0.91966414\n",
      " 1.02702306 0.94856066 1.01641001 0.96678212 0.91803703 0.92865841\n",
      " 0.9417082  0.92937497 1.01520805 0.92071509 0.90534758 0.92992541\n",
      " 0.92961539 1.08649236 0.97715827 0.9590542  1.00617838 1.03207672\n",
      " 0.95926328 0.90643078 0.9458933 ]\n"
     ]
    }
   ],
   "source": [
    "deadcells = np.where(cells.empty())[0]\n",
    "print(cells.properties['age'][deadcells])"
   ]
  },
  {
   "cell_type": "code",
   "execution_count": 209,
   "metadata": {},
   "outputs": [
    {
     "name": "stdout",
     "output_type": "stream",
     "text": [
      "1.5622115244563757 0.8864373671362452 0.44292649985797733\n",
      "[0.         0.         0.         ... 0.01896096 0.01890183 0.01884289]\n",
      "1.5783822497015025\n"
     ]
    }
   ],
   "source": [
    "# Fit line to histogram\n",
    "import matplotlib.mlab as mlab\n",
    "from scipy.stats import gamma\n",
    "from scipy.stats import erlang\n",
    "x = np.linspace(0,3.5,2290)\n",
    "\n",
    "# Gamma\n",
    "deadcells = np.where(cells.empty())[0]\n",
    "shape, loc, scale = erlang.fit(cells.properties['age'][deadcells]) # loc = position of cutoff\n",
    "print(shape, loc, scale)\n",
    "y = erlang.pdf(x, shape, loc, scale) # inverse of scale = rate\n",
    "h = plt.hist(cells.properties['age'][deadcells], bins = 40)\n",
    "plt.plot(x, y*60, lw=2)\n",
    "plt.show()\n",
    "print(y)\n",
    "\n",
    "# Check mean\n",
    "print(scipy.stats.erlang.mean(shape, loc, scale))\n",
    "\n",
    "\n",
    "\n",
    "# Cell cycle length distribution - influenced by correlated samples?\n"
   ]
  },
  {
   "cell_type": "code",
   "execution_count": 167,
   "metadata": {},
   "outputs": [
    {
     "ename": "NameError",
     "evalue": "name 'generation_a' is not defined",
     "output_type": "error",
     "traceback": [
      "\u001b[0;31m---------------------------------------------------------------------------\u001b[0m",
      "\u001b[0;31mNameError\u001b[0m                                 Traceback (most recent call last)",
      "\u001b[0;32m<ipython-input-167-1b5871ae5495>\u001b[0m in \u001b[0;36m<module>\u001b[0;34m\u001b[0m\n\u001b[0;32m----> 1\u001b[0;31m \u001b[0mprint\u001b[0m\u001b[0;34m(\u001b[0m\u001b[0mgeneration_a\u001b[0m\u001b[0;34m)\u001b[0m\u001b[0;34m\u001b[0m\u001b[0;34m\u001b[0m\u001b[0m\n\u001b[0m",
      "\u001b[0;31mNameError\u001b[0m: name 'generation_a' is not defined"
     ]
    }
   ],
   "source": [
    "print(generation_a)"
   ]
  },
  {
   "cell_type": "code",
   "execution_count": 211,
   "metadata": {},
   "outputs": [
    {
     "data": {
      "text/plain": [
       "KstestResult(statistic=0.509154783907775, pvalue=1.1710738031941171e-227)"
      ]
     },
     "execution_count": 211,
     "metadata": {},
     "output_type": "execute_result"
    }
   ],
   "source": [
    "# Perform Kolmogorov-Smirnov test to test whether or not or not cells.properties['age'] comes from Erlang distribution.\n",
    "\n",
    "from scipy.stats import kstest\n",
    "kstest(cells.properties['age'][deadcells], 'gamma', args=(1.5622115244563757, 0, 0.7119333243592108)) #modify shape to 1 to check for Erlang (not general gamma)"
   ]
  },
  {
   "cell_type": "code",
   "execution_count": null,
   "metadata": {},
   "outputs": [],
   "source": [
    "# IKNM dynamics 1 -> drift = velocity from current model\n",
    "\n",
    "#G1. if 0 <= properties['age'] <= t_G1:\n",
    "v1 = -1/t_G1\n",
    "#elif t_G1 < properties['age'] <= t_G1 + t_S :\n",
    "v1 = 0\n",
    "# elif t_G1 + t_S < properties['age'] <= t_G1 + t_S + t_G2:\n",
    "v1 = 1/t_G2\n",
    "# else: (t_G1 + t_S + t_G2 < properties['age'])\n",
    "v1 = 0\n",
    "\n",
    "# v2 = A*(properties['zposn'] - mean_neigh_pos)\n",
    "# cell has min 3 neighbors\n",
    "# Define neighbors: neighbors = cells whose 2 of their vertices coincide with 2 of the cell's. store in a list, neighbors.\n",
    "# n = number of neighbors: len(neighbors)\n",
    "# Position of neighbors (nuclei) = neigh_pos: repeat if statements for each neighbor to find out v1\n",
    " sum = 0\n",
    "for i in range(3, n+1, 1):\n",
    "sum = sum + neigh_pos\n",
    "# mean neigh position: \n",
    "mean_neigh_pos = sum/n\n",
    "\n",
    "# A = ct; value?\n",
    "\n",
    "v = v1 + v2\n",
    "\n",
    "\n",
    "\n",
    "\n",
    "\n",
    "\n"
   ]
  },
  {
   "cell_type": "code",
   "execution_count": 162,
   "metadata": {},
   "outputs": [
    {
     "name": "stdout",
     "output_type": "stream",
     "text": [
      "[1.1860919  1.14153715 2.16681666 ... 0.00473937 0.00506991 0.00423976]\n"
     ]
    },
    {
     "ename": "ValueError",
     "evalue": "The truth value of an array with more than one element is ambiguous. Use a.any() or a.all()",
     "output_type": "error",
     "traceback": [
      "\u001b[0;31m---------------------------------------------------------------------------\u001b[0m",
      "\u001b[0;31mValueError\u001b[0m                                Traceback (most recent call last)",
      "\u001b[0;32m<ipython-input-162-5ccfbc1ba98b>\u001b[0m in \u001b[0;36m<module>\u001b[0;34m\u001b[0m\n\u001b[1;32m      5\u001b[0m \u001b[0mz0\u001b[0m \u001b[0;34m=\u001b[0m \u001b[0mproperties\u001b[0m\u001b[0;34m[\u001b[0m\u001b[0;34m'age'\u001b[0m\u001b[0;34m]\u001b[0m\u001b[0;34m\u001b[0m\u001b[0;34m\u001b[0m\u001b[0m\n\u001b[1;32m      6\u001b[0m \u001b[0;31m# G1\u001b[0m\u001b[0;34m\u001b[0m\u001b[0;34m\u001b[0m\u001b[0;34m\u001b[0m\u001b[0m\n\u001b[0;32m----> 7\u001b[0;31m \u001b[0;32mif\u001b[0m \u001b[0;36m0\u001b[0m \u001b[0;34m<=\u001b[0m \u001b[0mproperties\u001b[0m\u001b[0;34m[\u001b[0m\u001b[0;34m'age'\u001b[0m\u001b[0;34m]\u001b[0m \u001b[0;34m<=\u001b[0m \u001b[0mt_G1\u001b[0m\u001b[0;34m:\u001b[0m\u001b[0;34m\u001b[0m\u001b[0;34m\u001b[0m\u001b[0m\n\u001b[0m\u001b[1;32m      8\u001b[0m     \u001b[0mproperties\u001b[0m\u001b[0;34m[\u001b[0m\u001b[0;34m'zposn'\u001b[0m\u001b[0;34m]\u001b[0m \u001b[0;34m=\u001b[0m \u001b[0;36m1\u001b[0m\u001b[0;34m-\u001b[0m\u001b[0;36m1.0\u001b[0m\u001b[0;34m/\u001b[0m\u001b[0mt_G1\u001b[0m\u001b[0;34m*\u001b[0m\u001b[0mproperties\u001b[0m\u001b[0;34m[\u001b[0m\u001b[0;34m'age'\u001b[0m\u001b[0;34m]\u001b[0m\u001b[0;34m\u001b[0m\u001b[0;34m\u001b[0m\u001b[0m\n\u001b[1;32m      9\u001b[0m \u001b[0;31m# S Phase\u001b[0m\u001b[0;34m\u001b[0m\u001b[0;34m\u001b[0m\u001b[0;34m\u001b[0m\u001b[0m\n",
      "\u001b[0;31mValueError\u001b[0m: The truth value of an array with more than one element is ambiguous. Use a.any() or a.all()"
     ]
    }
   ],
   "source": [
    "# IKNM dynamics 2 -> TARGET POSITION mod\n",
    "\n",
    "print(properties[\"age\"])\n",
    "\n",
    "zt = properties['zposn']\n",
    "z0 = np.zeros_like(zt)\n",
    "# G1\n",
    "cells_G1 = np.where(0 <= properties[\"age\"] <= t_G1)[0]\n",
    "z0[cells_G1] = 1-1.0/t_G1*properties['age']\n",
    "# S Phase\n",
    "cells_GS = np.where(t_G1 < properties['age'] <= t_G1+t_S)[0]\n",
    "z0[cells_GS] = 0.0\n",
    "# G2 phase\n",
    "cells_G2 = np.where(t_G1+t_S < properties['age'] <= t_G1+t_S+t_G2)[0]\n",
    "z0[cells_G2] = 1.0/(t_G2)*(properties['age']-(t_G1+t_S))\n",
    "# M phase\n",
    "cells_M = np.where(t_G1+t_S+t_G2 < properties['age'])[0]\n",
    "z0[cells_M] = 1.0\n",
    "\n",
    "    # DO it as in run_select.py\n",
    "\n",
    " # zt = current position of the nucleus\n",
    "zt = 0\n",
    "D=0.15\n",
    "\n",
    "dt = 0.001\n",
    "for t in np.arange(0, timend, dt):\n",
    "    zt = zt + k*(z0 - zt)*dt + sqrt(2*D*dt)*np.random.randn(len(zt))\n",
    "\n",
    "\n",
    "# Adding crowding\n",
    "def force_on_cell(zi):\n",
    "    force = 0\n",
    "    for zj in neighbors(zi):\n",
    "        force += f(zi-zj)\n",
    "    \n",
    "    return force"
   ]
  },
  {
   "cell_type": "code",
   "execution_count": 213,
   "metadata": {},
   "outputs": [
    {
     "ename": "ValueError",
     "evalue": "The truth value of an array with more than one element is ambiguous. Use a.any() or a.all()",
     "output_type": "error",
     "traceback": [
      "\u001b[0;31m---------------------------------------------------------------------------\u001b[0m",
      "\u001b[0;31mValueError\u001b[0m                                Traceback (most recent call last)",
      "\u001b[0;32m<ipython-input-213-3d20120c1c50>\u001b[0m in \u001b[0;36m<module>\u001b[0;34m\u001b[0m\n\u001b[0;32m----> 1\u001b[0;31m \u001b[0mprint\u001b[0m\u001b[0;34m(\u001b[0m\u001b[0mnp\u001b[0m\u001b[0;34m.\u001b[0m\u001b[0mwhere\u001b[0m\u001b[0;34m(\u001b[0m\u001b[0;36m0\u001b[0m \u001b[0;34m<=\u001b[0m \u001b[0mproperties\u001b[0m\u001b[0;34m[\u001b[0m\u001b[0;34m\"age\"\u001b[0m\u001b[0;34m]\u001b[0m \u001b[0;34m<=\u001b[0m \u001b[0mt_G1\u001b[0m\u001b[0;34m)\u001b[0m\u001b[0;34m)\u001b[0m\u001b[0;34m\u001b[0m\u001b[0;34m\u001b[0m\u001b[0m\n\u001b[0m",
      "\u001b[0;31mValueError\u001b[0m: The truth value of an array with more than one element is ambiguous. Use a.any() or a.all()"
     ]
    }
   ],
   "source": []
  },
  {
   "cell_type": "code",
   "execution_count": 98,
   "metadata": {},
   "outputs": [],
   "source": [
    "# Euler–Maruyama method - Wikipedia code - Potentially add noise dependence on the current position -> if cell is in\n",
    "# G1 or S => higher noise. but this might be counteracted by the low position of the nuclei, which are pushed further\n",
    "# down by neighbors above -> this noise might be counteracted in this way so probs not worth adding dependence on pos.\n",
    "\n",
    "num_sims = 5  # Display five runs\n",
    "\n",
    "t_init = 3\n",
    "t_end  = 7\n",
    "N      = 1000  # Compute 1000 grid points\n",
    "dt     = float(t_end - t_init) / N\n",
    "y_init = 0\n",
    "\n",
    "c_theta = 0.7\n",
    "c_mu    = 1.5\n",
    "c_sigma = 0.06\n",
    "\n",
    "def mu(y, t):\n",
    "    \"\"\"Implement the Ornstein–Uhlenbeck mu.\"\"\"  # = \\theta (\\mu-Y_t)\n",
    "    # replace with v\n",
    "    return c_theta * (c_mu - y)\n",
    "\n",
    "def sigma(y, t):\n",
    "    \"\"\"Implement the Ornstein–Uhlenbeck sigma.\"\"\"  # = \\sigma\n",
    "    # Diffusion coefficient\n",
    "    return c_sigma\n",
    "\n",
    "def dW(delta_t):\n",
    "    \"\"\"Sample a random number at each call.\"\"\"\n",
    "    # White Gaussian noise\n",
    "    return np.random.normal(loc=0.0, scale=np.sqrt(delta_t))\n",
    "\n",
    "ts = np.arange(t_init, t_end + dt, dt)\n",
    "ys = np.zeros(N + 1)\n",
    "\n",
    "ys[0] = y_init\n",
    "\n",
    "for _ in range(num_sims):\n",
    "    for i in range(1, ts.size):\n",
    "        t = t_init + (i - 1) * dt\n",
    "        y = ys[i - 1]\n",
    "        ys[i] = y + mu(y, t) * dt + sigma(y, t) * dW(dt)\n",
    "    plt.plot(ts, ys)\n",
    "\n",
    "plt.xlabel(\"time (s)\")\n",
    "h = plt.ylabel(\"y\")\n",
    "h.set_rotation(0)\n",
    "plt.show()"
   ]
  },
  {
   "cell_type": "code",
   "execution_count": 181,
   "metadata": {},
   "outputs": [
    {
     "name": "stdout",
     "output_type": "stream",
     "text": [
      "[1.         1.         1.         ... 0.98815157 0.98732521 0.98940059]\n",
      "2290\n",
      "0.0\n"
     ]
    }
   ],
   "source": [
    "print(properties['zposn'])\n",
    "print(len(properties['zposn']))\n",
    "print(min(properties['zposn']))"
   ]
  },
  {
   "cell_type": "code",
   "execution_count": 178,
   "metadata": {},
   "outputs": [
    {
     "ename": "NameError",
     "evalue": "name 'neigh_mean' is not defined",
     "output_type": "error",
     "traceback": [
      "\u001b[0;31m---------------------------------------------------------------------------\u001b[0m",
      "\u001b[0;31mNameError\u001b[0m                                 Traceback (most recent call last)",
      "\u001b[0;32m<ipython-input-178-bdc7d031b5fb>\u001b[0m in \u001b[0;36m<module>\u001b[0;34m\u001b[0m\n\u001b[0;32m----> 1\u001b[0;31m \u001b[0mprint\u001b[0m\u001b[0;34m(\u001b[0m\u001b[0mneigh_mean\u001b[0m\u001b[0;34m)\u001b[0m\u001b[0;34m\u001b[0m\u001b[0;34m\u001b[0m\u001b[0m\n\u001b[0m",
      "\u001b[0;31mNameError\u001b[0m: name 'neigh_mean' is not defined"
     ]
    }
   ],
   "source": [
    "print(neigh_mean)"
   ]
  },
  {
   "cell_type": "code",
   "execution_count": 179,
   "metadata": {},
   "outputs": [
    {
     "name": "stdout",
     "output_type": "stream",
     "text": [
      "[0 0 0 ... 0 0 0]\n"
     ]
    }
   ],
   "source": [
    "print(cells.properties['parent_group'])"
   ]
  },
  {
   "cell_type": "code",
   "execution_count": 182,
   "metadata": {},
   "outputs": [
    {
     "name": "stdout",
     "output_type": "stream",
     "text": [
      "[1.1860919  1.14153715 2.16681666 ... 0.00473937 0.00506991 0.00423976]\n"
     ]
    }
   ],
   "source": [
    "print(properties['age'])"
   ]
  },
  {
   "cell_type": "code",
   "execution_count": 224,
   "metadata": {},
   "outputs": [
    {
     "name": "stdout",
     "output_type": "stream",
     "text": [
      "[ True  True  True ... False False False]\n",
      "[False False False ...  True  True  True]\n"
     ]
    }
   ],
   "source": [
    "print(cells.empty())\n",
    "print(~cells.empty())"
   ]
  },
  {
   "cell_type": "code",
   "execution_count": 192,
   "metadata": {},
   "outputs": [
    {
     "name": "stdout",
     "output_type": "stream",
     "text": [
      "2290\n"
     ]
    }
   ],
   "source": [
    "print(len(cells.empty()))"
   ]
  },
  {
   "cell_type": "code",
   "execution_count": 216,
   "metadata": {},
   "outputs": [
    {
     "name": "stdout",
     "output_type": "stream",
     "text": [
      "[ 0.01115601  0.58930048  0.52175535 -0.08434293  0.2366181 ]\n",
      "(array([0, 1, 2, 4]),)\n",
      "[0 1 2 4]\n"
     ]
    }
   ],
   "source": [
    "a = np.random.normal(size=5)\n",
    "print(a)\n",
    "print(np.where(a>0))\n",
    "print(np.where(a>0)[0])"
   ]
  },
  {
   "cell_type": "code",
   "execution_count": 219,
   "metadata": {},
   "outputs": [
    {
     "name": "stdout",
     "output_type": "stream",
     "text": [
      "[[ 1.217858   -1.07929465 -0.64485792]\n",
      " [ 0.94932936  0.97203389  0.25382137]\n",
      " [ 1.46529953  0.4708984   0.64353754]\n",
      " [-0.00430902  0.84851356 -0.42626672]\n",
      " [ 0.71115515 -1.30060859 -1.01177399]]\n",
      "(array([0, 1, 1, 1, 2, 2, 2, 3, 4]), array([0, 0, 1, 2, 0, 1, 2, 1, 0]))\n",
      "[0 1 1 1 2 2 2 3 4]\n"
     ]
    }
   ],
   "source": [
    "a = np.random.normal(size=(5,3))\n",
    "print(a)\n",
    "print(np.where(a>0)) # first array gives rows where a>0; second array gives columns where a>0, for each row\n",
    "print(np.where(a>0)[0]) # returns only the first dimension = the rows of the array where a>0, repeated for as many..\n",
    "# ..times a number a>0 exists"
   ]
  },
  {
   "cell_type": "code",
   "execution_count": 225,
   "metadata": {},
   "outputs": [
    {
     "name": "stdout",
     "output_type": "stream",
     "text": [
      "[ True  True  True ... False False False]\n"
     ]
    },
    {
     "data": {
      "text/plain": [
       "array([   0,    1,    2,    3,    4,    5,    6,    7,    8,    9,   10,\n",
       "         11,   12,   13,   14,   15,   16,   17,   18,   19,   20,   21,\n",
       "         22,   23,   24,   25,   26,   27,   28,   29,   30,   31,   32,\n",
       "         33,   34,   35,   36,   37,   38,   39,   40,   41,   42,   43,\n",
       "         44,   45,   46,   47,   48,   49,   50,   51,   52,   53,   54,\n",
       "         55,   56,   57,   58,   59,   60,   61,   62,   63,   64,   65,\n",
       "         66,   67,   68,   69,   70,   71,   72,   73,   74,   75,   76,\n",
       "         77,   78,   79,   80,   81,   82,   83,   84,   85,   86,   87,\n",
       "         88,   89,   90,   91,   92,   93,   94,   95,   96,   97,   98,\n",
       "         99,  100,  101,  102,  103,  104,  105,  106,  107,  108,  109,\n",
       "        110,  111,  112,  113,  114,  115,  116,  117,  118,  119,  120,\n",
       "        121,  122,  123,  124,  125,  126,  127,  128,  129,  130,  131,\n",
       "        132,  133,  134,  135,  136,  137,  138,  139,  140,  141,  142,\n",
       "        143,  144,  145,  146,  147,  148,  149,  150,  151,  152,  153,\n",
       "        154,  155,  156,  157,  158,  159,  160,  161,  162,  163,  164,\n",
       "        165,  166,  167,  168,  169,  170,  171,  172,  173,  174,  175,\n",
       "        176,  177,  178,  179,  180,  181,  182,  183,  184,  185,  186,\n",
       "        187,  188,  189,  190,  191,  192,  193,  194,  195,  196,  197,\n",
       "        198,  199,  200,  201,  202,  203,  204,  205,  206,  207,  208,\n",
       "        209,  210,  211,  212,  213,  214,  215,  216,  217,  218,  219,\n",
       "        220,  221,  222,  223,  224,  225,  226,  227,  228,  229,  230,\n",
       "        231,  232,  233,  234,  235,  236,  237,  238,  239,  240,  241,\n",
       "        242,  243,  244,  245,  246,  247,  248,  249,  250,  251,  252,\n",
       "        253,  254,  255,  256,  257,  258,  259,  260,  261,  262,  263,\n",
       "        264,  265,  266,  267,  268,  269,  270,  271,  272,  273,  274,\n",
       "        275,  276,  277,  278,  279,  280,  281,  282,  283,  284,  285,\n",
       "        286,  287,  288,  289,  290,  291,  292,  293,  294,  295,  296,\n",
       "        297,  298,  299,  300,  301,  302,  303,  304,  305,  306,  307,\n",
       "        308,  309,  310,  311,  312,  313,  314,  315,  316,  317,  318,\n",
       "        319,  320,  321,  322,  323,  324,  325,  326,  327,  328,  329,\n",
       "        330,  331,  332,  333,  334,  335,  336,  337,  338,  339,  340,\n",
       "        341,  342,  343,  344,  345,  346,  347,  348,  349,  350,  351,\n",
       "        352,  353,  354,  355,  356,  357,  358,  359,  360,  361,  362,\n",
       "        363,  364,  365,  366,  367,  368,  369,  370,  371,  372,  373,\n",
       "        374,  375,  376,  377,  378,  379,  380,  381,  382,  383,  384,\n",
       "        385,  386,  387,  388,  389,  390,  391,  392,  393,  394,  395,\n",
       "        396,  397,  398,  399,  400,  401,  402,  403,  404,  405,  406,\n",
       "        407,  408,  409,  410,  411,  412,  413,  414,  415,  416,  417,\n",
       "        418,  419,  420,  421,  422,  423,  424,  425,  426,  427,  428,\n",
       "        429,  430,  431,  432,  433,  434,  435,  436,  437,  438,  439,\n",
       "        440,  441,  442,  443,  444,  445,  446,  447,  448,  449,  450,\n",
       "        451,  452,  453,  454,  455,  456,  457,  458,  459,  460,  461,\n",
       "        462,  463,  464,  465,  466,  467,  468,  469,  470,  471,  472,\n",
       "        473,  474,  475,  476,  477,  478,  479,  480,  481,  482,  483,\n",
       "        484,  486,  487,  488,  489,  490,  491,  492,  493,  494,  495,\n",
       "        496,  497,  498,  499,  500,  501,  502,  504,  505,  506,  507,\n",
       "        508,  509,  510,  511,  512,  513,  514,  515,  516,  517,  518,\n",
       "        519,  520,  521,  522,  523,  524,  525,  526,  527,  528,  529,\n",
       "        530,  532,  533,  534,  535,  536,  537,  538,  539,  540,  541,\n",
       "        542,  543,  544,  545,  546,  548,  549,  550,  551,  552,  553,\n",
       "        554,  555,  556,  557,  558,  559,  560,  561,  562,  563,  564,\n",
       "        565,  566,  567,  568,  569,  570,  571,  572,  573,  574,  575,\n",
       "        576,  577,  578,  579,  580,  581,  582,  583,  584,  585,  586,\n",
       "        587,  588,  589,  590,  591,  592,  593,  594,  595,  596,  597,\n",
       "        598,  599,  600,  601,  602,  603,  604,  605,  606,  607,  608,\n",
       "        610,  611,  612,  613,  614,  616,  617,  618,  619,  620,  621,\n",
       "        622,  623,  624,  625,  626,  627,  628,  629,  630,  631,  632,\n",
       "        633,  634,  635,  636,  637,  638,  639,  640,  641,  642,  643,\n",
       "        645,  646,  647,  648,  649,  650,  651,  652,  653,  654,  655,\n",
       "        656,  658,  659,  660,  661,  662,  663,  664,  665,  666,  667,\n",
       "        668,  669,  670,  671,  672,  673,  674,  675,  676,  677,  678,\n",
       "        679,  680,  681,  682,  683,  684,  685,  686,  687,  688,  689,\n",
       "        690,  691,  692,  693,  694,  695,  696,  697,  698,  699,  700,\n",
       "        701,  702,  703,  704,  706,  707,  708,  709,  710,  711,  712,\n",
       "        713,  714,  715,  716,  717,  718,  719,  720,  721,  722,  723,\n",
       "        725,  726,  727,  728,  729,  730,  731,  732,  733,  734,  735,\n",
       "        736,  737,  738,  739,  740,  741,  742,  743,  744,  745,  746,\n",
       "        747,  748,  749,  750,  751,  752,  753,  754,  755,  756,  758,\n",
       "        759,  760,  761,  762,  763,  764,  766,  768,  769,  770,  772,\n",
       "        773,  774,  775,  776,  779,  780,  782,  783,  784,  785,  786,\n",
       "        787,  788,  789,  790,  791,  792,  793,  795,  796,  798,  800,\n",
       "        802,  803,  804,  805,  806,  807,  808,  809,  810,  811,  813,\n",
       "        814,  815,  816,  817,  818,  819,  820,  822,  826,  827,  828,\n",
       "        829,  830,  831,  832,  833,  835,  837,  838,  839,  842,  844,\n",
       "        846,  848,  849,  851,  852,  853,  854,  855,  856,  857,  858,\n",
       "        859,  860,  861,  864,  866,  867,  868,  869,  870,  872,  875,\n",
       "        877,  879,  884,  887,  889,  890,  892,  893,  895,  896,  900,\n",
       "        902,  903,  904,  905,  906,  908,  909,  910,  911,  913,  915,\n",
       "        917,  918,  919,  920,  921,  922,  923,  924,  925,  928,  930,\n",
       "        932,  933,  937,  940,  941,  944,  945,  946,  949,  952,  953,\n",
       "        955,  958,  959,  960,  963,  965,  967,  968,  971,  976,  977,\n",
       "        979,  982,  984,  985,  986,  988,  991,  997,  999, 1000, 1002,\n",
       "       1007, 1008, 1013, 1015, 1021, 1022, 1026, 1028, 1029, 1030, 1034,\n",
       "       1042, 1043, 1049, 1054, 1062, 1065, 1074, 1078, 1083, 1094, 1095,\n",
       "       1096, 1098, 1105, 1111, 1117, 1120, 1123, 1124, 1135, 1138, 1140,\n",
       "       1144, 1152, 1163, 1169, 1176, 1183, 1195, 1197, 1299, 1445])"
      ]
     },
     "execution_count": 225,
     "metadata": {},
     "output_type": "execute_result"
    }
   ],
   "source": [
    "print(cells.empty())\n",
    "np.where(cells.empty())[0] # indices in array of T and F where there are T vals"
   ]
  },
  {
   "cell_type": "code",
   "execution_count": 220,
   "metadata": {},
   "outputs": [
    {
     "data": {
      "text/plain": [
       "(array([   0,    1,    2,    3,    4,    5,    6,    7,    8,    9,   10,\n",
       "          11,   12,   13,   14,   15,   16,   17,   18,   19,   20,   21,\n",
       "          22,   23,   24,   25,   26,   27,   28,   29,   30,   31,   32,\n",
       "          33,   34,   35,   36,   37,   38,   39,   40,   41,   42,   43,\n",
       "          44,   45,   46,   47,   48,   49,   50,   51,   52,   53,   54,\n",
       "          55,   56,   57,   58,   59,   60,   61,   62,   63,   64,   65,\n",
       "          66,   67,   68,   69,   70,   71,   72,   73,   74,   75,   76,\n",
       "          77,   78,   79,   80,   81,   82,   83,   84,   85,   86,   87,\n",
       "          88,   89,   90,   91,   92,   93,   94,   95,   96,   97,   98,\n",
       "          99,  100,  101,  102,  103,  104,  105,  106,  107,  108,  109,\n",
       "         110,  111,  112,  113,  114,  115,  116,  117,  118,  119,  120,\n",
       "         121,  122,  123,  124,  125,  126,  127,  128,  129,  130,  131,\n",
       "         132,  133,  134,  135,  136,  137,  138,  139,  140,  141,  142,\n",
       "         143,  144,  145,  146,  147,  148,  149,  150,  151,  152,  153,\n",
       "         154,  155,  156,  157,  158,  159,  160,  161,  162,  163,  164,\n",
       "         165,  166,  167,  168,  169,  170,  171,  172,  173,  174,  175,\n",
       "         176,  177,  178,  179,  180,  181,  182,  183,  184,  185,  186,\n",
       "         187,  188,  189,  190,  191,  192,  193,  194,  195,  196,  197,\n",
       "         198,  199,  200,  201,  202,  203,  204,  205,  206,  207,  208,\n",
       "         209,  210,  211,  212,  213,  214,  215,  216,  217,  218,  219,\n",
       "         220,  221,  222,  223,  224,  225,  226,  227,  228,  229,  230,\n",
       "         231,  232,  233,  234,  235,  236,  237,  238,  239,  240,  241,\n",
       "         242,  243,  244,  245,  246,  247,  248,  249,  250,  251,  252,\n",
       "         253,  254,  255,  256,  257,  258,  259,  260,  261,  262,  263,\n",
       "         264,  265,  266,  267,  268,  269,  270,  271,  272,  273,  274,\n",
       "         275,  276,  277,  278,  279,  280,  281,  282,  283,  284,  285,\n",
       "         286,  287,  288,  289,  290,  291,  292,  293,  294,  295,  296,\n",
       "         297,  298,  299,  300,  301,  302,  303,  304,  305,  306,  307,\n",
       "         308,  309,  310,  311,  312,  313,  314,  315,  316,  317,  318,\n",
       "         319,  320,  321,  322,  323,  324,  325,  326,  327,  328,  329,\n",
       "         330,  331,  332,  333,  334,  335,  336,  337,  338,  339,  340,\n",
       "         341,  342,  343,  344,  345,  346,  347,  348,  349,  350,  351,\n",
       "         352,  353,  354,  355,  356,  357,  358,  359,  360,  361,  362,\n",
       "         363,  364,  365,  366,  367,  368,  369,  370,  371,  372,  373,\n",
       "         374,  375,  376,  377,  378,  379,  380,  381,  382,  383,  384,\n",
       "         385,  386,  387,  388,  389,  390,  391,  392,  393,  394,  395,\n",
       "         396,  397,  398,  399,  400,  401,  402,  403,  404,  405,  406,\n",
       "         407,  408,  409,  410,  411,  412,  413,  414,  415,  416,  417,\n",
       "         418,  419,  420,  421,  422,  423,  424,  425,  426,  427,  428,\n",
       "         429,  430,  431,  432,  433,  434,  435,  436,  437,  438,  439,\n",
       "         440,  441,  442,  443,  444,  445,  446,  447,  448,  449,  450,\n",
       "         451,  452,  453,  454,  455,  456,  457,  458,  459,  460,  461,\n",
       "         462,  463,  464,  465,  466,  467,  468,  469,  470,  471,  472,\n",
       "         473,  474,  475,  476,  477,  478,  479,  480,  481,  482,  483,\n",
       "         484,  486,  487,  488,  489,  490,  491,  492,  493,  494,  495,\n",
       "         496,  497,  498,  499,  500,  501,  502,  504,  505,  506,  507,\n",
       "         508,  509,  510,  511,  512,  513,  514,  515,  516,  517,  518,\n",
       "         519,  520,  521,  522,  523,  524,  525,  526,  527,  528,  529,\n",
       "         530,  532,  533,  534,  535,  536,  537,  538,  539,  540,  541,\n",
       "         542,  543,  544,  545,  546,  548,  549,  550,  551,  552,  553,\n",
       "         554,  555,  556,  557,  558,  559,  560,  561,  562,  563,  564,\n",
       "         565,  566,  567,  568,  569,  570,  571,  572,  573,  574,  575,\n",
       "         576,  577,  578,  579,  580,  581,  582,  583,  584,  585,  586,\n",
       "         587,  588,  589,  590,  591,  592,  593,  594,  595,  596,  597,\n",
       "         598,  599,  600,  601,  602,  603,  604,  605,  606,  607,  608,\n",
       "         610,  611,  612,  613,  614,  616,  617,  618,  619,  620,  621,\n",
       "         622,  623,  624,  625,  626,  627,  628,  629,  630,  631,  632,\n",
       "         633,  634,  635,  636,  637,  638,  639,  640,  641,  642,  643,\n",
       "         645,  646,  647,  648,  649,  650,  651,  652,  653,  654,  655,\n",
       "         656,  658,  659,  660,  661,  662,  663,  664,  665,  666,  667,\n",
       "         668,  669,  670,  671,  672,  673,  674,  675,  676,  677,  678,\n",
       "         679,  680,  681,  682,  683,  684,  685,  686,  687,  688,  689,\n",
       "         690,  691,  692,  693,  694,  695,  696,  697,  698,  699,  700,\n",
       "         701,  702,  703,  704,  706,  707,  708,  709,  710,  711,  712,\n",
       "         713,  714,  715,  716,  717,  718,  719,  720,  721,  722,  723,\n",
       "         725,  726,  727,  728,  729,  730,  731,  732,  733,  734,  735,\n",
       "         736,  737,  738,  739,  740,  741,  742,  743,  744,  745,  746,\n",
       "         747,  748,  749,  750,  751,  752,  753,  754,  755,  756,  758,\n",
       "         759,  760,  761,  762,  763,  764,  766,  768,  769,  770,  772,\n",
       "         773,  774,  775,  776,  779,  780,  782,  783,  784,  785,  786,\n",
       "         787,  788,  789,  790,  791,  792,  793,  795,  796,  798,  800,\n",
       "         802,  803,  804,  805,  806,  807,  808,  809,  810,  811,  813,\n",
       "         814,  815,  816,  817,  818,  819,  820,  822,  826,  827,  828,\n",
       "         829,  830,  831,  832,  833,  835,  837,  838,  839,  842,  844,\n",
       "         846,  848,  849,  851,  852,  853,  854,  855,  856,  857,  858,\n",
       "         859,  860,  861,  864,  866,  867,  868,  869,  870,  872,  875,\n",
       "         877,  879,  884,  887,  889,  890,  892,  893,  895,  896,  900,\n",
       "         902,  903,  904,  905,  906,  908,  909,  910,  911,  913,  915,\n",
       "         917,  918,  919,  920,  921,  922,  923,  924,  925,  928,  930,\n",
       "         932,  933,  937,  940,  941,  944,  945,  946,  949,  952,  953,\n",
       "         955,  958,  959,  960,  963,  965,  967,  968,  971,  976,  977,\n",
       "         979,  982,  984,  985,  986,  988,  991,  997,  999, 1000, 1002,\n",
       "        1007, 1008, 1013, 1015, 1021, 1022, 1026, 1028, 1029, 1030, 1034,\n",
       "        1042, 1043, 1049, 1054, 1062, 1065, 1074, 1078, 1083, 1094, 1095,\n",
       "        1096, 1098, 1105, 1111, 1117, 1120, 1123, 1124, 1135, 1138, 1140,\n",
       "        1144, 1152, 1163, 1169, 1176, 1183, 1195, 1197, 1299, 1445]),)"
      ]
     },
     "execution_count": 220,
     "metadata": {},
     "output_type": "execute_result"
    }
   ],
   "source": [
    "np.where(cells.empty())"
   ]
  },
  {
   "cell_type": "code",
   "execution_count": null,
   "metadata": {},
   "outputs": [],
   "source": []
  }
 ],
 "metadata": {
  "kernelspec": {
   "display_name": "Python 3",
   "language": "python",
   "name": "python3"
  },
  "language_info": {
   "codemirror_mode": {
    "name": "ipython",
    "version": 3
   },
   "file_extension": ".py",
   "mimetype": "text/x-python",
   "name": "python",
   "nbconvert_exporter": "python",
   "pygments_lexer": "ipython3",
   "version": "3.8.5"
  }
 },
 "nbformat": 4,
 "nbformat_minor": 2
}
